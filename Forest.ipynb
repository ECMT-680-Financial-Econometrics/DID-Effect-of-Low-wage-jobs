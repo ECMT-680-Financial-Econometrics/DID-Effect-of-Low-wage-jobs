{
 "cells": [
  {
   "cell_type": "code",
   "execution_count": 9,
   "metadata": {},
   "outputs": [],
   "source": [
    "import pandas as pd\n",
    "\n",
    "CK_groups_df = pd.read_csv(\"E:/680_temp3.18DID/2009-2016/processed/processed_data_2008.csv\")\n",
    "state_panels2008_df = pd.read_csv(\"E:/680_temp3.18DID/2009-2016/year/data_year_2008.csv\")\n",
    "\n",
    "T_df = pd.read_csv(\"E:/680_temp3.18DID/processed_VZ_mw_data.csv\" )\n",
    "T_df = T_df.rename(columns={'statefips': 'statenum'})\n",
    "T_df_2008 = T_df[T_df['year'] == 2008]\n",
    "# 合并数据集\n",
    "# 第一步：合并 CK_groups_df 和 state_panels2008_df\n",
    "df_merged_step1 = pd.merge(CK_groups_df, state_panels2008_df, on=[\"statenum\", \"quarterdate\"], how=\"inner\")\n",
    "\n",
    "# 第二步：将上一步的合并结果与 T_df 进行合并\n",
    "df_merged_final = pd.merge(df_merged_step1, T_df_2008, on=[\"statenum\", \"quarterdate\"], how=\"inner\")\n",
    "\n"
   ]
  },
  {
   "cell_type": "code",
   "execution_count": 2,
   "metadata": {},
   "outputs": [],
   "source": [
    "# 假设df_merged已经是通过某种方式合并了'CK_groups.dta'和'state_panels_with3quant1979.dta'的DataFrame\n",
    "# 以下是根据实际提供的变量名称来定义X, T, Y\n",
    "\n",
    "# 定义特征变量（X）\n",
    "# 可以包括年份、季度和人口统计特征等\n",
    "# 这里选择了quarterdate（可能需要从中提取年份和季度）、州编号（statenum）和一些人口统计特征作为例子\n",
    "X = df_merged_final[['blackpop', 'whitepop', 'genderpop', 'teenpop']]\n",
    "\n",
    "# 处理变量（T）\n",
    "# 假设'MW_real'代表了实际的最低工资水平，我们可以将其变化（例如提升）作为处理\n",
    "# 这需要一些额外的处理来确定哪些观察值是在最低工资提升后的，但基于描述，我们直接用'MW_real'示例\n",
    "# 在实际应用中，可能需要创建一个表示政策变化的变量\n",
    "T = df_merged_final['T']  # 这里假设'MW_real'直接用作处理变量，实际上可能需要根据最低工资的变化创建一个新变量\n",
    "\n",
    "# 结果变量（Y）\n",
    "# 假设'employment_rate'（就业率）或'emp'（就业人数）作为结果变量\n",
    "# 这里使用'emp'作为结果变量的例子\n",
    "Y = df_merged_final['avewage']\n",
    "\n",
    "# 注意：这个示例代码是基于提供的变量名简化构建的，实际应用中可能需要根据最低工资的具体变化来创建处理变量（T）\n",
    "\n"
   ]
  },
  {
   "cell_type": "code",
   "execution_count": 4,
   "metadata": {},
   "outputs": [
    {
     "name": "stdout",
     "output_type": "stream",
     "text": [
      "(204, 2)\n",
      "(204, 2)\n",
      "(204, 2)\n"
     ]
    }
   ],
   "source": [
    "print(CK_groups_df[['statenum', 'quarterdate']].drop_duplicates().shape)\n",
    "print(state_panels2008_df[['statenum', 'quarterdate']].drop_duplicates().shape)\n",
    "print(T_df_2008[['statenum', 'quarterdate']].drop_duplicates().shape)\n"
   ]
  },
  {
   "cell_type": "code",
   "execution_count": 5,
   "metadata": {},
   "outputs": [],
   "source": [
    "from econml.dml import CausalForestDML\n",
    "from sklearn.ensemble import GradientBoostingRegressor\n",
    "\n",
    "# 初始化因果随机森林模型\n",
    "crf = CausalForestDML(model_y=GradientBoostingRegressor(), \n",
    "                      model_t=GradientBoostingRegressor(),\n",
    "                      criterion='mse', n_estimators=100, \n",
    "                      min_samples_leaf=10, \n",
    "                      max_depth=None)\n",
    "\n",
    "# 假设 X, T, Y 已经准备好，并且是正确的格式\n",
    "# 拟合模型\n",
    "# 注意：fit方法的调用需要遵循你使用的econml版本的要求，下面的调用适用于大多数情况\n",
    "crf.fit(Y, T, X=X, W=None, inference='auto')\n",
    "\n",
    "# 估计因果效应\n",
    "treatment_effects = crf.effect(X)\n"
   ]
  },
  {
   "cell_type": "code",
   "execution_count": 6,
   "metadata": {},
   "outputs": [
    {
     "data": {
      "image/png": "[encoded data removed]",
      "text/plain": [
       "<Figure size 432x288 with 1 Axes>"
      ]
     },
     "metadata": {
      "needs_background": "light"
     },
     "output_type": "display_data"
    }
   ],
   "source": [
    "import matplotlib.pyplot as plt\n",
    "\n",
    "# 绘制因果效应分布\n",
    "plt.hist(treatment_effects, bins=50)\n",
    "plt.title('Estimated Treatment Effects Distribution')\n",
    "plt.xlabel('Effect Size')\n",
    "plt.ylabel('Frequency')\n",
    "plt.show()\n",
    "\n",
    "# 获取置信区间\n",
    "te_lower, te_upper = crf.effect_interval(X, alpha=0.05)\n",
    "\n",
    "# 可以进一步分析不同子群体的影响或将效应大小映射回原始数据集进行深入分析。\n"
   ]
  },
  {
   "cell_type": "code",
   "execution_count": 7,
   "metadata": {},
   "outputs": [
    {
     "name": "stdout",
     "output_type": "stream",
     "text": [
      "blackpop: 0.2974239548437022\n",
      "whitepop: 0.2387125075825412\n",
      "genderpop: 0.27024429049358\n",
      "teenpop: 0.19361924708017653\n"
     ]
    }
   ],
   "source": [
    "# 首先，确保你已经拟合了模型，如前面的代码所示\n",
    "\n",
    "# 计算特征重要性\n",
    "feature_importances = crf.feature_importances_\n",
    "\n",
    "# 打印特征重要性\n",
    "feature_names = ['blackpop', 'whitepop', 'genderpop', 'teenpop']\n",
    "for feature_name, importance in zip(feature_names, feature_importances):\n",
    "    print(f\"{feature_name}: {importance}\")\n"
   ]
  },
  {
   "cell_type": "code",
   "execution_count": 8,
   "metadata": {},
   "outputs": [
    {
     "data": {
      "image/png": "[encoded data removed]",
      "text/plain": [
       "<Figure size 720x432 with 1 Axes>"
      ]
     },
     "metadata": {
      "needs_background": "light"
     },
     "output_type": "display_data"
    }
   ],
   "source": [
    "import matplotlib.pyplot as plt\n",
    "\n",
    "# 假设 feature_importances 是从模型中获得的特征重要性评分\n",
    "feature_importances = crf.feature_importances_\n",
    "\n",
    "# 特征名称\n",
    "feature_names = ['blackpop', 'whitepop', 'genderpop', 'teenpop']\n",
    "\n",
    "# 创建条形图\n",
    "plt.figure(figsize=(10, 6))\n",
    "plt.barh(feature_names, feature_importances, color='skyblue')\n",
    "plt.xlabel('Feature Importance')\n",
    "plt.ylabel('Feature')\n",
    "plt.title('Feature Importance from Causal Forest')\n",
    "plt.gca().invert_yaxis()  # 反转y轴，使得最重要的特征显示在顶部\n",
    "plt.show()\n"
   ]
  }
 ],
 "metadata": {
  "kernelspec": {
   "display_name": "Python 3",
   "language": "python",
   "name": "python3"
  },
  "language_info": {
   "codemirror_mode": {
    "name": "ipython",
    "version": 3
   },
   "file_extension": ".py",
   "mimetype": "text/x-python",
   "name": "python",
   "nbconvert_exporter": "python",
   "pygments_lexer": "ipython3",
   "version": "3.8.0"
  }
 },
 "nbformat": 4,
 "nbformat_minor": 2
}
