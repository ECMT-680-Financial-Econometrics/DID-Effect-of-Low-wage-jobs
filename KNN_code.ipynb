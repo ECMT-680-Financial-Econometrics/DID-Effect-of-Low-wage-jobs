{
  "cells": [
    {
      "cell_type": "code",
      "execution_count": 1,
      "metadata": {
        "colab": {
          "base_uri": "https://localhost:8080/",
          "height": 356
        },
        "id": "HW_uxqYoRh5v",
        "outputId": "2298ef33-5a89-4941-dbbf-16944f4fff18"
      },
      "outputs": [
        {
          "name": "stdout",
          "output_type": "stream",
          "text": [
            "     avewage   avehours\n",
            "0  2019.5529  43.400654\n",
            "1  2810.0195  30.060446\n",
            "2  1914.3103  40.000000\n",
            "3  2414.0547  42.507656\n",
            "4  2383.8184  41.473904\n"
          ]
        }
      ],
      "source": [
        "import pandas as pd\n",
        "from sklearn.impute import KNNImputer\n",
        "from sklearn.preprocessing import StandardScaler\n",
        "import numpy as np  # Ensure numpy is imported\n",
        "\n",
        "# Reading a CSV file\n",
        "file_path = 'E:\\\\680_temp3.18DID\\\\Table4\\\\table4_data_2008.csv'\n",
        "data_2008 = pd.read_csv(file_path)\n",
        "\n",
        "# Replace 0 values in avewage and avehours with np.nan, indicating these are missing values\n",
        "data_2008[['avewage', 'avehours']] = data_2008[['avewage', 'avehours']].replace(0, np.nan)\n",
        "\n",
        "# Instantiate KNNImputer\n",
        "imputer = KNNImputer(n_neighbors=15)\n",
        "\n",
        "# Select columns for imputation\n",
        "columns_for_imputation = ['avewage', 'avehours']\n",
        "\n",
        "# Perform KNN imputation\n",
        "imputed_data = imputer.fit_transform(data_2008[columns_for_imputation])\n",
        "\n",
        "# Convert imputed data back to DataFrame\n",
        "imputed_data_df = pd.DataFrame(imputed_data, columns=columns_for_imputation)\n",
        "\n",
        "# Optional: Merge imputed columns back into the original DataFrame\n",
        "data_2008[columns_for_imputation] = imputed_data_df\n",
        "\n",
        "# Display the first few rows of imputed data for inspection\n",
        "print(imputed_data_df.head())\n",
        "\n",
        "# Save the processed DataFrame back to a CSV file, if needed\n",
        "processed_file_path = 'E:\\\\680_temp3.18DID\\\\Table4\\\\table4_processed_data_2008.csv'\n",
        "data_2008.to_csv(processed_file_path, index=False)\n"
      ]
    }
  ],
  "metadata": {
    "colab": {
      "provenance": []
    },
    "kernelspec": {
      "display_name": "Python 3",
      "name": "python3"
    },
    "language_info": {
      "codemirror_mode": {
        "name": "ipython",
        "version": 3
      },
      "file_extension": ".py",
      "mimetype": "text/x-python",
      "name": "python",
      "nbconvert_exporter": "python",
      "pygments_lexer": "ipython3",
      "version": "3.8.0"
    }
  },
  "nbformat": 4,
  "nbformat_minor": 0
}
